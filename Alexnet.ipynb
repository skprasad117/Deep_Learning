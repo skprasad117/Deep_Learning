{
  "nbformat": 4,
  "nbformat_minor": 0,
  "metadata": {
    "colab": {
      "provenance": [],
      "authorship_tag": "ABX9TyN2LtLVDLizazrYhv4BRgLh",
      "include_colab_link": true
    },
    "kernelspec": {
      "name": "python3",
      "display_name": "Python 3"
    },
    "language_info": {
      "name": "python"
    }
  },
  "cells": [
    {
      "cell_type": "markdown",
      "metadata": {
        "id": "view-in-github",
        "colab_type": "text"
      },
      "source": [
        "<a href=\"https://colab.research.google.com/github/skprasad117/Deep_Learning/blob/main/Alexnet.ipynb\" target=\"_parent\"><img src=\"https://colab.research.google.com/assets/colab-badge.svg\" alt=\"Open In Colab\"/></a>"
      ]
    },
    {
      "cell_type": "code",
      "execution_count": null,
      "metadata": {
        "id": "5IvcKNCnn0Df"
      },
      "outputs": [],
      "source": [
        "import tensorflow as tf\n",
        "from tensorflow import keras\n",
        "import keras\n",
        "from keras.models import Sequential\n",
        "from keras.layers import Dense, Activation, Dropout, Flatten, Conv2D, MaxPooling2D\n",
        "from tensorflow.keras.layers import BatchNormalization"
      ]
    },
    {
      "cell_type": "code",
      "source": [
        "!pip install tflearn"
      ],
      "metadata": {
        "colab": {
          "base_uri": "https://localhost:8080/"
        },
        "id": "BB27GbuUony9",
        "outputId": "b101d5b5-e72d-407e-c284-6d39fd50dcfd"
      },
      "execution_count": null,
      "outputs": [
        {
          "output_type": "stream",
          "name": "stdout",
          "text": [
            "Looking in indexes: https://pypi.org/simple, https://us-python.pkg.dev/colab-wheels/public/simple/\n",
            "Requirement already satisfied: tflearn in /usr/local/lib/python3.8/dist-packages (0.5.0)\n",
            "Requirement already satisfied: six in /usr/local/lib/python3.8/dist-packages (from tflearn) (1.15.0)\n",
            "Requirement already satisfied: numpy in /usr/local/lib/python3.8/dist-packages (from tflearn) (1.21.6)\n",
            "Requirement already satisfied: Pillow in /usr/local/lib/python3.8/dist-packages (from tflearn) (7.1.2)\n"
          ]
        }
      ]
    },
    {
      "cell_type": "code",
      "source": [
        "# Get Data\n",
        "import tflearn.datasets.oxflower17 as oxflower17\n",
        "x, y = oxflower17.load_data(one_hot=True)"
      ],
      "metadata": {
        "id": "kwcEtLNzos7M"
      },
      "execution_count": null,
      "outputs": []
    },
    {
      "cell_type": "code",
      "source": [
        "x"
      ],
      "metadata": {
        "colab": {
          "base_uri": "https://localhost:8080/"
        },
        "id": "HKrl5_jEo8e_",
        "outputId": "da67fcfa-ceb3-4eba-c83b-2f1083dcd183"
      },
      "execution_count": null,
      "outputs": [
        {
          "output_type": "execute_result",
          "data": {
            "text/plain": [
              "array([[[[0.45882353, 0.49411765, 0.61960787],\n",
              "         [0.4392157 , 0.4745098 , 0.5764706 ],\n",
              "         [0.43137255, 0.46666667, 0.5058824 ],\n",
              "         ...,\n",
              "         [0.27450982, 0.3529412 , 0.07450981],\n",
              "         [0.28235295, 0.3529412 , 0.07450981],\n",
              "         [0.28235295, 0.34901962, 0.07450981]],\n",
              "\n",
              "        [[0.45490196, 0.49411765, 0.63529414],\n",
              "         [0.4392157 , 0.4745098 , 0.5882353 ],\n",
              "         [0.42745098, 0.46666667, 0.5176471 ],\n",
              "         ...,\n",
              "         [0.25882354, 0.3372549 , 0.06666667],\n",
              "         [0.2627451 , 0.33333334, 0.06666667],\n",
              "         [0.26666668, 0.33333334, 0.06666667]],\n",
              "\n",
              "        [[0.44313726, 0.49019608, 0.6509804 ],\n",
              "         [0.43137255, 0.4745098 , 0.6117647 ],\n",
              "         [0.41960785, 0.4627451 , 0.5411765 ],\n",
              "         ...,\n",
              "         [0.25882354, 0.33333334, 0.07058824],\n",
              "         [0.25882354, 0.3254902 , 0.06666667],\n",
              "         [0.2627451 , 0.3254902 , 0.06666667]],\n",
              "\n",
              "        ...,\n",
              "\n",
              "        [[0.32156864, 0.34901962, 0.18431373],\n",
              "         [0.3254902 , 0.3529412 , 0.19215687],\n",
              "         [0.32156864, 0.34901962, 0.19607843],\n",
              "         ...,\n",
              "         [0.08235294, 0.12156863, 0.01568628],\n",
              "         [0.08235294, 0.1254902 , 0.01176471],\n",
              "         [0.08235294, 0.1254902 , 0.00784314]],\n",
              "\n",
              "        [[0.2784314 , 0.30588236, 0.14117648],\n",
              "         [0.28627452, 0.3137255 , 0.14901961],\n",
              "         [0.29803923, 0.32156864, 0.16862746],\n",
              "         ...,\n",
              "         [0.09019608, 0.12941177, 0.02352941],\n",
              "         [0.08627451, 0.1254902 , 0.02352941],\n",
              "         [0.08627451, 0.1254902 , 0.02352941]],\n",
              "\n",
              "        [[0.24705882, 0.27450982, 0.10980392],\n",
              "         [0.2509804 , 0.2784314 , 0.11764706],\n",
              "         [0.25882354, 0.28627452, 0.13333334],\n",
              "         ...,\n",
              "         [0.09803922, 0.13725491, 0.03137255],\n",
              "         [0.09411765, 0.13333334, 0.03529412],\n",
              "         [0.09411765, 0.13333334, 0.03529412]]],\n",
              "\n",
              "\n",
              "       [[[0.68235296, 0.627451  , 0.5254902 ],\n",
              "         [0.6627451 , 0.627451  , 0.5176471 ],\n",
              "         [0.62352943, 0.6039216 , 0.4862745 ],\n",
              "         ...,\n",
              "         [0.6       , 0.5568628 , 0.4509804 ],\n",
              "         [0.59607846, 0.5686275 , 0.45490196],\n",
              "         [0.5803922 , 0.5568628 , 0.4392157 ]],\n",
              "\n",
              "        [[0.68235296, 0.627451  , 0.5294118 ],\n",
              "         [0.65882355, 0.61960787, 0.50980395],\n",
              "         [0.62352943, 0.6       , 0.48235294],\n",
              "         ...,\n",
              "         [0.5921569 , 0.5529412 , 0.44705883],\n",
              "         [0.5882353 , 0.5647059 , 0.44705883],\n",
              "         [0.57254905, 0.54901963, 0.43137255]],\n",
              "\n",
              "        [[0.6784314 , 0.6313726 , 0.5294118 ],\n",
              "         [0.654902  , 0.61960787, 0.50980395],\n",
              "         [0.62352943, 0.6       , 0.48235294],\n",
              "         ...,\n",
              "         [0.5882353 , 0.5529412 , 0.44705883],\n",
              "         [0.5764706 , 0.5568628 , 0.4392157 ],\n",
              "         [0.5568628 , 0.5411765 , 0.41960785]],\n",
              "\n",
              "        ...,\n",
              "\n",
              "        [[0.76862746, 0.67058825, 0.5882353 ],\n",
              "         [0.75686276, 0.6745098 , 0.60784316],\n",
              "         [0.74509805, 0.6745098 , 0.62352943],\n",
              "         ...,\n",
              "         [0.52156866, 0.46666667, 0.32941177],\n",
              "         [0.49019608, 0.4392157 , 0.29411766],\n",
              "         [0.4509804 , 0.40392157, 0.2509804 ]],\n",
              "\n",
              "        [[0.7411765 , 0.6509804 , 0.57254905],\n",
              "         [0.7372549 , 0.65882355, 0.5882353 ],\n",
              "         [0.73333335, 0.6627451 , 0.6156863 ],\n",
              "         ...,\n",
              "         [0.5058824 , 0.4627451 , 0.3137255 ],\n",
              "         [0.45882353, 0.42745098, 0.27058825],\n",
              "         [0.42352942, 0.39607844, 0.23137255]],\n",
              "\n",
              "        [[0.7372549 , 0.6509804 , 0.5686275 ],\n",
              "         [0.7372549 , 0.65882355, 0.5882353 ],\n",
              "         [0.73333335, 0.6627451 , 0.6156863 ],\n",
              "         ...,\n",
              "         [0.49411765, 0.45490196, 0.30588236],\n",
              "         [0.44313726, 0.41960785, 0.25490198],\n",
              "         [0.40784314, 0.3882353 , 0.21960784]]],\n",
              "\n",
              "\n",
              "       [[[0.6392157 , 0.5176471 , 0.25490198],\n",
              "         [0.6901961 , 0.5686275 , 0.30588236],\n",
              "         [0.74509805, 0.62352943, 0.36078432],\n",
              "         ...,\n",
              "         [0.5411765 , 0.48235294, 0.13725491],\n",
              "         [0.57254905, 0.5058824 , 0.17254902],\n",
              "         [0.5921569 , 0.52156866, 0.19215687]],\n",
              "\n",
              "        [[0.6156863 , 0.49411765, 0.23137255],\n",
              "         [0.6431373 , 0.52156866, 0.25882354],\n",
              "         [0.7254902 , 0.6039216 , 0.34117648],\n",
              "         ...,\n",
              "         [0.5137255 , 0.45882353, 0.11372549],\n",
              "         [0.54901963, 0.47843137, 0.14901961],\n",
              "         [0.5686275 , 0.49803922, 0.16862746]],\n",
              "\n",
              "        [[0.6117647 , 0.49019608, 0.22745098],\n",
              "         [0.62352943, 0.5019608 , 0.23921569],\n",
              "         [0.7294118 , 0.60784316, 0.34509805],\n",
              "         ...,\n",
              "         [0.49803922, 0.44313726, 0.09803922],\n",
              "         [0.54509807, 0.4745098 , 0.13725491],\n",
              "         [0.5647059 , 0.49411765, 0.16078432]],\n",
              "\n",
              "        ...,\n",
              "\n",
              "        [[0.21568628, 0.2627451 , 0.        ],\n",
              "         [0.2509804 , 0.3019608 , 0.        ],\n",
              "         [0.30588236, 0.3647059 , 0.01568628],\n",
              "         ...,\n",
              "         [0.25490198, 0.22745098, 0.01960784],\n",
              "         [0.24313726, 0.21568628, 0.00392157],\n",
              "         [0.24705882, 0.21960784, 0.00784314]],\n",
              "\n",
              "        [[0.21960784, 0.26666668, 0.        ],\n",
              "         [0.2509804 , 0.3019608 , 0.        ],\n",
              "         [0.2901961 , 0.34509805, 0.        ],\n",
              "         ...,\n",
              "         [0.23921569, 0.21176471, 0.00392157],\n",
              "         [0.24313726, 0.21568628, 0.00392157],\n",
              "         [0.24705882, 0.21960784, 0.00392157]],\n",
              "\n",
              "        [[0.2509804 , 0.29803923, 0.01960784],\n",
              "         [0.27450982, 0.32156864, 0.01960784],\n",
              "         [0.29411766, 0.3529412 , 0.00392157],\n",
              "         ...,\n",
              "         [0.23529412, 0.20784314, 0.        ],\n",
              "         [0.2627451 , 0.23529412, 0.01960784],\n",
              "         [0.26666668, 0.23921569, 0.02352941]]],\n",
              "\n",
              "\n",
              "       ...,\n",
              "\n",
              "\n",
              "       [[[0.07450981, 0.13725491, 0.0627451 ],\n",
              "         [0.04313726, 0.10980392, 0.03529412],\n",
              "         [0.03529412, 0.09411765, 0.02352941],\n",
              "         ...,\n",
              "         [0.26666668, 0.34117648, 0.02352941],\n",
              "         [0.27450982, 0.34117648, 0.03529412],\n",
              "         [0.29803923, 0.3647059 , 0.05882353]],\n",
              "\n",
              "        [[0.05490196, 0.11764706, 0.04705882],\n",
              "         [0.00784314, 0.06666667, 0.00392157],\n",
              "         [0.02352941, 0.08235294, 0.01568628],\n",
              "         ...,\n",
              "         [0.2627451 , 0.3372549 , 0.01568628],\n",
              "         [0.27450982, 0.34117648, 0.03529412],\n",
              "         [0.29411766, 0.36078432, 0.05490196]],\n",
              "\n",
              "        [[0.04705882, 0.10980392, 0.04313726],\n",
              "         [0.00784314, 0.07058824, 0.00784314],\n",
              "         [0.03137255, 0.09019608, 0.02745098],\n",
              "         ...,\n",
              "         [0.2784314 , 0.3529412 , 0.03529412],\n",
              "         [0.2901961 , 0.36078432, 0.04313726],\n",
              "         [0.3137255 , 0.38039216, 0.06666667]],\n",
              "\n",
              "        ...,\n",
              "\n",
              "        [[0.3137255 , 0.42352942, 0.14509805],\n",
              "         [0.2901961 , 0.4117647 , 0.12941177],\n",
              "         [0.30588236, 0.44705883, 0.15686275],\n",
              "         ...,\n",
              "         [0.        , 0.03921569, 0.00784314],\n",
              "         [0.        , 0.03529412, 0.00392157],\n",
              "         [0.01568628, 0.05882353, 0.01960784]],\n",
              "\n",
              "        [[0.28627452, 0.3764706 , 0.1254902 ],\n",
              "         [0.2784314 , 0.37254903, 0.12156863],\n",
              "         [0.29803923, 0.39607844, 0.14509805],\n",
              "         ...,\n",
              "         [0.        , 0.04313726, 0.00392157],\n",
              "         [0.        , 0.04313726, 0.        ],\n",
              "         [0.01960784, 0.06666667, 0.01960784]],\n",
              "\n",
              "        [[0.2784314 , 0.3647059 , 0.12156863],\n",
              "         [0.2784314 , 0.36078432, 0.12156863],\n",
              "         [0.30980393, 0.38431373, 0.14509805],\n",
              "         ...,\n",
              "         [0.02352941, 0.07450981, 0.02352941],\n",
              "         [0.02352941, 0.07058824, 0.01960784],\n",
              "         [0.03921569, 0.09019608, 0.03529412]]],\n",
              "\n",
              "\n",
              "       [[[0.02745098, 0.00784314, 0.18039216],\n",
              "         [0.01960784, 0.01960784, 0.04313726],\n",
              "         [0.01568628, 0.02745098, 0.        ],\n",
              "         ...,\n",
              "         [0.21176471, 0.07843138, 0.02352941],\n",
              "         [0.24313726, 0.09803922, 0.02352941],\n",
              "         [0.23921569, 0.09019608, 0.00784314]],\n",
              "\n",
              "        [[0.01960784, 0.03921569, 0.        ],\n",
              "         [0.01176471, 0.01568628, 0.01176471],\n",
              "         [0.01176471, 0.00392157, 0.08627451],\n",
              "         ...,\n",
              "         [0.24313726, 0.09411765, 0.02745098],\n",
              "         [0.27450982, 0.10980392, 0.02745098],\n",
              "         [0.27058825, 0.10588235, 0.01176471]],\n",
              "\n",
              "        [[0.01568628, 0.00784314, 0.05490196],\n",
              "         [0.03529412, 0.        , 0.21960784],\n",
              "         [0.02352941, 0.        , 0.22745098],\n",
              "         ...,\n",
              "         [0.2784314 , 0.10980392, 0.02352941],\n",
              "         [0.31764707, 0.1254902 , 0.02745098],\n",
              "         [0.31764707, 0.12156863, 0.01176471]],\n",
              "\n",
              "        ...,\n",
              "\n",
              "        [[0.01568628, 0.01960784, 0.00784314],\n",
              "         [0.        , 0.00392157, 0.        ],\n",
              "         [0.        , 0.00392157, 0.        ],\n",
              "         ...,\n",
              "         [0.        , 0.        , 0.        ],\n",
              "         [0.        , 0.        , 0.        ],\n",
              "         [0.        , 0.        , 0.        ]],\n",
              "\n",
              "        [[0.02745098, 0.        , 0.        ],\n",
              "         [0.02352941, 0.        , 0.        ],\n",
              "         [0.01960784, 0.        , 0.        ],\n",
              "         ...,\n",
              "         [0.        , 0.        , 0.        ],\n",
              "         [0.        , 0.        , 0.        ],\n",
              "         [0.        , 0.        , 0.        ]],\n",
              "\n",
              "        [[0.04705882, 0.        , 0.00392157],\n",
              "         [0.04313726, 0.        , 0.00392157],\n",
              "         [0.03529412, 0.        , 0.        ],\n",
              "         ...,\n",
              "         [0.        , 0.        , 0.        ],\n",
              "         [0.        , 0.        , 0.        ],\n",
              "         [0.        , 0.        , 0.        ]]],\n",
              "\n",
              "\n",
              "       [[[0.75686276, 0.78431374, 0.7529412 ],\n",
              "         [0.6627451 , 0.7019608 , 0.69411767],\n",
              "         [0.5686275 , 0.60784316, 0.63529414],\n",
              "         ...,\n",
              "         [0.3529412 , 0.38039216, 0.40784314],\n",
              "         [0.18431373, 0.21960784, 0.2       ],\n",
              "         [0.05098039, 0.09411765, 0.04313726]],\n",
              "\n",
              "        [[0.79607844, 0.8156863 , 0.78431374],\n",
              "         [0.7490196 , 0.78431374, 0.77254903],\n",
              "         [0.6745098 , 0.7137255 , 0.7294118 ],\n",
              "         ...,\n",
              "         [0.2901961 , 0.3254902 , 0.3254902 ],\n",
              "         [0.18431373, 0.22745098, 0.1882353 ],\n",
              "         [0.06666667, 0.11372549, 0.04705882]],\n",
              "\n",
              "        [[0.85490197, 0.87058824, 0.83137256],\n",
              "         [0.79607844, 0.827451  , 0.8       ],\n",
              "         [0.7176471 , 0.7607843 , 0.75686276],\n",
              "         ...,\n",
              "         [0.27058825, 0.30980393, 0.27058825],\n",
              "         [0.16078432, 0.20784314, 0.12941177],\n",
              "         [0.08235294, 0.12941177, 0.02745098]],\n",
              "\n",
              "        ...,\n",
              "\n",
              "        [[0.03529412, 0.        , 0.18431373],\n",
              "         [0.27450982, 0.2627451 , 0.3137255 ],\n",
              "         [0.3529412 , 0.38431373, 0.33333334],\n",
              "         ...,\n",
              "         [0.7019608 , 0.7411765 , 0.7254902 ],\n",
              "         [0.65882355, 0.69803923, 0.6862745 ],\n",
              "         [0.6117647 , 0.6509804 , 0.6392157 ]],\n",
              "\n",
              "        [[0.04705882, 0.02352941, 0.21960784],\n",
              "         [0.27058825, 0.27450982, 0.33333334],\n",
              "         [0.27058825, 0.3019608 , 0.2627451 ],\n",
              "         ...,\n",
              "         [0.76862746, 0.77254903, 0.77254903],\n",
              "         [0.7058824 , 0.7137255 , 0.70980394],\n",
              "         [0.6666667 , 0.6745098 , 0.67058825]],\n",
              "\n",
              "        [[0.06666667, 0.05490196, 0.2509804 ],\n",
              "         [0.26666668, 0.27450982, 0.33333334],\n",
              "         [0.18039216, 0.21176471, 0.17254902],\n",
              "         ...,\n",
              "         [0.8039216 , 0.8       , 0.8       ],\n",
              "         [0.7490196 , 0.7490196 , 0.7490196 ],\n",
              "         [0.65882355, 0.65882355, 0.65882355]]]], dtype=float32)"
            ]
          },
          "metadata": {},
          "execution_count": 18
        }
      ]
    },
    {
      "cell_type": "code",
      "source": [
        "y"
      ],
      "metadata": {
        "colab": {
          "base_uri": "https://localhost:8080/"
        },
        "id": "PPSYeVvipBeR",
        "outputId": "2ad1e586-7aca-4eef-a84f-ace014e2274d"
      },
      "execution_count": null,
      "outputs": [
        {
          "output_type": "execute_result",
          "data": {
            "text/plain": [
              "array([[0., 0., 0., ..., 0., 0., 0.],\n",
              "       [0., 0., 0., ..., 0., 1., 0.],\n",
              "       [0., 0., 0., ..., 0., 0., 0.],\n",
              "       ...,\n",
              "       [0., 0., 0., ..., 0., 0., 0.],\n",
              "       [0., 0., 0., ..., 0., 0., 0.],\n",
              "       [0., 0., 0., ..., 0., 0., 0.]])"
            ]
          },
          "metadata": {},
          "execution_count": 19
        }
      ]
    },
    {
      "cell_type": "code",
      "source": [
        "x.shape"
      ],
      "metadata": {
        "colab": {
          "base_uri": "https://localhost:8080/"
        },
        "id": "sPEs0XljpR6N",
        "outputId": "2d630767-931c-4119-9d7f-2e12c5b4b556"
      },
      "execution_count": null,
      "outputs": [
        {
          "output_type": "execute_result",
          "data": {
            "text/plain": [
              "(1360, 224, 224, 3)"
            ]
          },
          "metadata": {},
          "execution_count": 20
        }
      ]
    },
    {
      "cell_type": "code",
      "source": [
        "y.shape"
      ],
      "metadata": {
        "colab": {
          "base_uri": "https://localhost:8080/"
        },
        "id": "gKBdVPdLpUOr",
        "outputId": "341e8a4f-9559-416b-b83a-b3fde7651aa3"
      },
      "execution_count": null,
      "outputs": [
        {
          "output_type": "execute_result",
          "data": {
            "text/plain": [
              "(1360, 17)"
            ]
          },
          "metadata": {},
          "execution_count": 21
        }
      ]
    },
    {
      "cell_type": "code",
      "source": [
        "# Create a sequential model\n",
        "model = Sequential()\n",
        "\n",
        "# 1st Convolutional Layer\n",
        "model.add(Conv2D(filters=96, input_shape=(224,224,3), kernel_size=(11,11), strides=(4,4), padding='valid'))\n",
        "model.add(Activation('relu'))\n",
        "\n",
        "# Pooling \n",
        "model.add(MaxPooling2D(pool_size=(3,3), strides=(2,2), padding='valid'))\n",
        "# Batch Normalisation before passing it to the next layer\n",
        "model.add(BatchNormalization())\n",
        "\n",
        "# 2nd Convolutional Layer\n",
        "model.add(Conv2D(filters=256, kernel_size=(5,5), strides=(1,1), padding='same'))\n",
        "model.add(Activation('relu'))\n",
        "\n",
        "# Pooling\n",
        "model.add(MaxPooling2D(pool_size=(3,3), strides=(2,2), padding='valid'))\n",
        "# Batch Normalisation\n",
        "model.add(BatchNormalization())\n",
        "\n",
        "\n",
        "\n",
        "# 3rd Convolutional Layer\n",
        "model.add(Conv2D(filters=384, kernel_size=(3,3), strides=(1,1), padding='valid'))\n",
        "model.add(Activation('relu'))\n",
        "# Batch Normalisation\n",
        "model.add(BatchNormalization())\n",
        "\n",
        "# 4th Convolutional Layer\n",
        "model.add(Conv2D(filters=384, kernel_size=(3,3), strides=(1,1), padding='valid'))\n",
        "model.add(Activation('relu'))\n",
        "# Batch Normalisation\n",
        "model.add(BatchNormalization())\n",
        "\n",
        "\n",
        "# 5th Convolutional Layer\n",
        "model.add(Conv2D(filters=256, kernel_size=(3,3), strides=(1,1), padding='valid'))\n",
        "model.add(Activation('relu'))\n",
        "\n",
        "\n",
        "# Pooling\n",
        "model.add(MaxPooling2D(pool_size=(3,3), strides=(2,2), padding='valid'))\n",
        "# Batch Normalisation\n",
        "model.add(BatchNormalization())\n",
        "\n",
        "\n",
        "# Passing it to a dense layer\n",
        "model.add(Flatten())\n",
        "\n",
        "# 1st Dense Layer\n",
        "model.add(Dense(4096, input_shape=(224*224*3,)))\n",
        "model.add(Activation('relu'))\n",
        "# Add Dropout to prevent overfitting\n",
        "model.add(Dropout(0.4))\n",
        "# Batch Normalisation\n",
        "model.add(BatchNormalization())\n",
        "\n",
        "# 2nd Dense Layer\n",
        "model.add(Dense(4096))\n",
        "model.add(Activation('relu'))\n",
        "# Add Dropout\n",
        "model.add(Dropout(0.4))\n",
        "# Batch Normalisation\n",
        "model.add(BatchNormalization())\n",
        "\n",
        "# Output Layer\n",
        "model.add(Dense(17))\n",
        "model.add(Activation('softmax'))\n",
        "\n",
        "model.summary()"
      ],
      "metadata": {
        "colab": {
          "base_uri": "https://localhost:8080/"
        },
        "id": "YNcHPJ2mpVdV",
        "outputId": "aa85df22-fe18-46ea-daf8-631402b91cf7"
      },
      "execution_count": null,
      "outputs": [
        {
          "output_type": "stream",
          "name": "stdout",
          "text": [
            "Model: \"sequential_1\"\n",
            "_________________________________________________________________\n",
            " Layer (type)                Output Shape              Param #   \n",
            "=================================================================\n",
            " conv2d_5 (Conv2D)           (None, 54, 54, 96)        34944     \n",
            "                                                                 \n",
            " activation_8 (Activation)   (None, 54, 54, 96)        0         \n",
            "                                                                 \n",
            " max_pooling2d_3 (MaxPooling  (None, 26, 26, 96)       0         \n",
            " 2D)                                                             \n",
            "                                                                 \n",
            " batch_normalization_7 (Batc  (None, 26, 26, 96)       384       \n",
            " hNormalization)                                                 \n",
            "                                                                 \n",
            " conv2d_6 (Conv2D)           (None, 26, 26, 256)       614656    \n",
            "                                                                 \n",
            " activation_9 (Activation)   (None, 26, 26, 256)       0         \n",
            "                                                                 \n",
            " max_pooling2d_4 (MaxPooling  (None, 12, 12, 256)      0         \n",
            " 2D)                                                             \n",
            "                                                                 \n",
            " batch_normalization_8 (Batc  (None, 12, 12, 256)      1024      \n",
            " hNormalization)                                                 \n",
            "                                                                 \n",
            " conv2d_7 (Conv2D)           (None, 10, 10, 384)       885120    \n",
            "                                                                 \n",
            " activation_10 (Activation)  (None, 10, 10, 384)       0         \n",
            "                                                                 \n",
            " batch_normalization_9 (Batc  (None, 10, 10, 384)      1536      \n",
            " hNormalization)                                                 \n",
            "                                                                 \n",
            " conv2d_8 (Conv2D)           (None, 8, 8, 384)         1327488   \n",
            "                                                                 \n",
            " activation_11 (Activation)  (None, 8, 8, 384)         0         \n",
            "                                                                 \n",
            " batch_normalization_10 (Bat  (None, 8, 8, 384)        1536      \n",
            " chNormalization)                                                \n",
            "                                                                 \n",
            " conv2d_9 (Conv2D)           (None, 6, 6, 256)         884992    \n",
            "                                                                 \n",
            " activation_12 (Activation)  (None, 6, 6, 256)         0         \n",
            "                                                                 \n",
            " max_pooling2d_5 (MaxPooling  (None, 2, 2, 256)        0         \n",
            " 2D)                                                             \n",
            "                                                                 \n",
            " batch_normalization_11 (Bat  (None, 2, 2, 256)        1024      \n",
            " chNormalization)                                                \n",
            "                                                                 \n",
            " flatten_1 (Flatten)         (None, 1024)              0         \n",
            "                                                                 \n",
            " dense_3 (Dense)             (None, 4096)              4198400   \n",
            "                                                                 \n",
            " activation_13 (Activation)  (None, 4096)              0         \n",
            "                                                                 \n",
            " dropout_2 (Dropout)         (None, 4096)              0         \n",
            "                                                                 \n",
            " batch_normalization_12 (Bat  (None, 4096)             16384     \n",
            " chNormalization)                                                \n",
            "                                                                 \n",
            " dense_4 (Dense)             (None, 4096)              16781312  \n",
            "                                                                 \n",
            " activation_14 (Activation)  (None, 4096)              0         \n",
            "                                                                 \n",
            " dropout_3 (Dropout)         (None, 4096)              0         \n",
            "                                                                 \n",
            " batch_normalization_13 (Bat  (None, 4096)             16384     \n",
            " chNormalization)                                                \n",
            "                                                                 \n",
            " dense_5 (Dense)             (None, 17)                69649     \n",
            "                                                                 \n",
            " activation_15 (Activation)  (None, 17)                0         \n",
            "                                                                 \n",
            "=================================================================\n",
            "Total params: 24,834,833\n",
            "Trainable params: 24,815,697\n",
            "Non-trainable params: 19,136\n",
            "_________________________________________________________________\n"
          ]
        }
      ]
    },
    {
      "cell_type": "code",
      "source": [
        "# Compile \n",
        "opt = tf.optimizers.Adam(learning_rate = 0.01)\n"
      ],
      "metadata": {
        "id": "HFsjLokipuVo"
      },
      "execution_count": null,
      "outputs": []
    },
    {
      "cell_type": "code",
      "source": [
        "# Compile \n",
        "opt = tf.optimizers.Adam(learning_rate = 0.01)\n",
        "model.compile(loss='categorical_crossentropy', optimizer=opt, metrics=['accuracy'])"
      ],
      "metadata": {
        "id": "sKYnjo2Du9E7"
      },
      "execution_count": null,
      "outputs": []
    },
    {
      "cell_type": "code",
      "source": [
        "# Train\n",
        "model.fit(x, y, batch_size=64, epochs=5, verbose=1,validation_split=0.2, shuffle=True)"
      ],
      "metadata": {
        "id": "K_9ff3QSuP2H"
      },
      "execution_count": null,
      "outputs": []
    }
  ]
}